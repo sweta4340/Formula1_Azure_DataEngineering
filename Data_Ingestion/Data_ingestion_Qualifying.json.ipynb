{
 "cells": [
  {
   "cell_type": "code",
   "execution_count": 0,
   "metadata": {
    "application/vnd.databricks.v1+cell": {
     "cellMetadata": {
      "byteLimit": 2048000,
      "rowLimit": 10000
     },
     "inputWidgets": {},
     "nuid": "6f89965a-8c72-4a68-942a-43dc5b5a1259",
     "showTitle": false,
     "tableResultSettingsMap": {},
     "title": ""
    }
   },
   "outputs": [],
   "source": [
    "%run \"/Workspace/Formula1Project/includes/configuration\""
   ]
  },
  {
   "cell_type": "code",
   "execution_count": 0,
   "metadata": {
    "application/vnd.databricks.v1+cell": {
     "cellMetadata": {
      "byteLimit": 2048000,
      "rowLimit": 10000
     },
     "inputWidgets": {},
     "nuid": "fddd115b-7282-44a0-bbea-296ac13e1455",
     "showTitle": false,
     "tableResultSettingsMap": {},
     "title": ""
    }
   },
   "outputs": [],
   "source": [
    "%run \"/Workspace/Formula1Project/includes/common_functions\""
   ]
  },
  {
   "cell_type": "code",
   "execution_count": 0,
   "metadata": {
    "application/vnd.databricks.v1+cell": {
     "cellMetadata": {
      "byteLimit": 2048000,
      "rowLimit": 10000
     },
     "inputWidgets": {},
     "nuid": "1a520e09-ba45-41fe-958a-23d616872255",
     "showTitle": false,
     "tableResultSettingsMap": {},
     "title": ""
    }
   },
   "outputs": [],
   "source": [
    "accounts_key = dbutils.secrets.get(scope=\"formala1-scope\", key=\"account-key\")\n",
    "spark.conf.set(\"fs.azure.account.key.formala1.dfs.core.windows.net\", accounts_key)"
   ]
  },
  {
   "cell_type": "code",
   "execution_count": 0,
   "metadata": {
    "application/vnd.databricks.v1+cell": {
     "cellMetadata": {
      "byteLimit": 2048000,
      "rowLimit": 10000
     },
     "inputWidgets": {},
     "nuid": "e0ed5e78-2ef1-46ad-99ba-b4a8eeda07b9",
     "showTitle": false,
     "tableResultSettingsMap": {},
     "title": ""
    }
   },
   "outputs": [],
   "source": [
    "dbutils.widgets.text(\"p_data_source\", \"2021-03-21\")\n",
    "v_data_source = dbutils.widgets.get(\"p_data_source\")"
   ]
  },
  {
   "cell_type": "code",
   "execution_count": 0,
   "metadata": {
    "application/vnd.databricks.v1+cell": {
     "cellMetadata": {
      "byteLimit": 2048000,
      "rowLimit": 10000
     },
     "inputWidgets": {},
     "nuid": "e35d922c-3f0b-4426-8870-1030190452eb",
     "showTitle": false,
     "tableResultSettingsMap": {},
     "title": ""
    }
   },
   "outputs": [],
   "source": [
    "dbutils.widgets.text(\"p_file_date\", \"2021-03-21\")\n",
    "v_file_date = dbutils.widgets.get(\"p_file_date\")"
   ]
  },
  {
   "cell_type": "code",
   "execution_count": 0,
   "metadata": {
    "application/vnd.databricks.v1+cell": {
     "cellMetadata": {
      "byteLimit": 2048000,
      "rowLimit": 10000
     },
     "inputWidgets": {},
     "nuid": "bf09def7-ed22-47f8-a70b-07d4efb7e26a",
     "showTitle": false,
     "tableResultSettingsMap": {},
     "title": ""
    }
   },
   "outputs": [],
   "source": [
    "from pyspark.sql.types import StructType, StructField, StringType, IntegerType\n",
    "qualifying_schema = StructType([ StructField(\"qualifyId\", IntegerType(), False),\n",
    "                              StructField(\"raceId\", IntegerType(), True), \n",
    "                              StructField(\"driverId\", IntegerType(), True), \n",
    "                              StructField(\"ConstructorId\", IntegerType(), True), \n",
    "                              StructField(\"number\", IntegerType(), True), \n",
    "                              StructField(\"position\", StringType(), True),\n",
    "                              StructField(\"q1\", StringType(), True),\n",
    "                              StructField(\"q2\", StringType(), True),\n",
    "                              StructField(\"q3\", StringType(), True),\n",
    "                              ])"
   ]
  },
  {
   "cell_type": "code",
   "execution_count": 0,
   "metadata": {
    "application/vnd.databricks.v1+cell": {
     "cellMetadata": {
      "byteLimit": 2048000,
      "rowLimit": 10000
     },
     "inputWidgets": {},
     "nuid": "fc2cc667-6be4-48fb-88f2-bf82c32eed01",
     "showTitle": false,
     "tableResultSettingsMap": {},
     "title": ""
    }
   },
   "outputs": [],
   "source": [
    "qualifying_df = spark.read.json(f\"{raw_path}/{v_file_date}/qualifying\",multiLine=True, schema=qualifying_schema)"
   ]
  },
  {
   "cell_type": "code",
   "execution_count": 0,
   "metadata": {
    "application/vnd.databricks.v1+cell": {
     "cellMetadata": {
      "byteLimit": 2048000,
      "rowLimit": 10000
     },
     "inputWidgets": {},
     "nuid": "ed4dda03-5457-4d5b-9ce7-0a393b0ffe54",
     "showTitle": false,
     "tableResultSettingsMap": {},
     "title": ""
    }
   },
   "outputs": [],
   "source": [
    "display(qualifying_df)"
   ]
  },
  {
   "cell_type": "code",
   "execution_count": 0,
   "metadata": {
    "application/vnd.databricks.v1+cell": {
     "cellMetadata": {
      "byteLimit": 2048000,
      "rowLimit": 10000
     },
     "inputWidgets": {},
     "nuid": "43f8b336-84bc-4c4a-a5f9-4bb033e565cb",
     "showTitle": false,
     "tableResultSettingsMap": {},
     "title": ""
    }
   },
   "outputs": [],
   "source": [
    "from pyspark.sql.functions import current_timestamp, lit\n",
    "qualifying_df = qualifying_df.withColumnRenamed(\"qualifyId\", \"qualify_id\").withColumnRenamed(\"raceId\", \"race_id\").withColumnRenamed(\"driverId\", \"driver_id\").withColumnRenamed(\"ConstructorId\", \"constructor_id\").withColumn(\"ingestion_date\",current_timestamp()).withColumn(\"file_date\",lit(v_file_date)).withColumn(\"data_source\",lit(v_data_source))"
   ]
  },
  {
   "cell_type": "code",
   "execution_count": 0,
   "metadata": {
    "application/vnd.databricks.v1+cell": {
     "cellMetadata": {
      "byteLimit": 2048000,
      "rowLimit": 10000
     },
     "inputWidgets": {},
     "nuid": "a84c1868-da37-4917-9e68-9ade6b5063be",
     "showTitle": false,
     "tableResultSettingsMap": {},
     "title": ""
    }
   },
   "outputs": [],
   "source": [
    "merge_condition = \"tgt.race_id = src.race_id and tgt.qualify_id = src.qualify_id\"\n",
    "merge_data(qualifying_df , processed_path, \"f1_processed\", \"qualifying\", \"race_id\", merge_condition)"
   ]
  }
 ],
 "metadata": {
  "application/vnd.databricks.v1+notebook": {
   "computePreferences": null,
   "dashboards": [],
   "environmentMetadata": {
    "base_environment": "",
    "environment_version": "1"
   },
   "language": "python",
   "notebookMetadata": {
    "pythonIndentUnit": 4
   },
   "notebookName": "Data_ingestion_Qualifying.json",
   "widgets": {
    "p_data_source": {
     "currentValue": "Ergast API",
     "nuid": "2e97d540-0844-4f45-ae55-19b4d4b2298a",
     "typedWidgetInfo": {
      "autoCreated": false,
      "defaultValue": "2021-03-21",
      "label": null,
      "name": "p_data_source",
      "options": {
       "widgetDisplayType": "Text",
       "validationRegex": null
      },
      "parameterDataType": "String"
     },
     "widgetInfo": {
      "widgetType": "text",
      "defaultValue": "2021-03-21",
      "label": null,
      "name": "p_data_source",
      "options": {
       "widgetType": "text",
       "autoCreated": null,
       "validationRegex": null
      }
     }
    },
    "p_file_date": {
     "currentValue": "2021-04-18",
     "nuid": "cf1ee818-d4ea-4068-82cd-a0c0badf29a8",
     "typedWidgetInfo": {
      "autoCreated": false,
      "defaultValue": "2021-03-21",
      "label": null,
      "name": "p_file_date",
      "options": {
       "widgetDisplayType": "Text",
       "validationRegex": null
      },
      "parameterDataType": "String"
     },
     "widgetInfo": {
      "widgetType": "text",
      "defaultValue": "2021-03-21",
      "label": null,
      "name": "p_file_date",
      "options": {
       "widgetType": "text",
       "autoCreated": null,
       "validationRegex": null
      }
     }
    }
   }
  },
  "language_info": {
   "name": "python"
  }
 },
 "nbformat": 4,
 "nbformat_minor": 0
}
