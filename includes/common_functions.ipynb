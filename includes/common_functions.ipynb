{
 "cells": [
  {
   "cell_type": "code",
   "execution_count": 0,
   "metadata": {
    "application/vnd.databricks.v1+cell": {
     "cellMetadata": {
      "byteLimit": 2048000,
      "rowLimit": 10000
     },
     "inputWidgets": {},
     "nuid": "5fb86972-f6de-4a5d-ae52-01e2a703225c",
     "showTitle": false,
     "tableResultSettingsMap": {},
     "title": ""
    }
   },
   "outputs": [],
   "source": [
    "from pyspark.sql.functions import current_timestamp\n",
    "def add_ingestion_date(df):\n",
    "    df = df.withColumn(\"ingestion_date\", current_timestamp())\n",
    "    return df"
   ]
  },
  {
   "cell_type": "code",
   "execution_count": 0,
   "metadata": {
    "application/vnd.databricks.v1+cell": {
     "cellMetadata": {
      "byteLimit": 2048000,
      "rowLimit": 10000
     },
     "inputWidgets": {},
     "nuid": "3ba492f8-f835-4be8-810d-400cb78d0f12",
     "showTitle": false,
     "tableResultSettingsMap": {},
     "title": ""
    }
   },
   "outputs": [],
   "source": [
    "from pyspark.sql.functions import col\n",
    "def rearrange_partition_columns(df,partition_col):\n",
    "    columns = df.schema.names\n",
    "    res = []\n",
    "    for column in columns:\n",
    "        if column != partition_col:\n",
    "            res.append(column)\n",
    "    res.append(col(partition_col))\n",
    "    result_df = df.select(res)\n",
    "    return result_df\n"
   ]
  },
  {
   "cell_type": "code",
   "execution_count": 0,
   "metadata": {
    "application/vnd.databricks.v1+cell": {
     "cellMetadata": {
      "byteLimit": 2048000,
      "rowLimit": 10000
     },
     "inputWidgets": {},
     "nuid": "16fbe8ee-a709-445b-8b99-ffa9b621f5c6",
     "showTitle": false,
     "tableResultSettingsMap": {},
     "title": ""
    }
   },
   "outputs": [],
   "source": [
    "def overwrite_partition(df, partition_col, database, table):\n",
    "    df = rearrange_partition_columns(df,partition_col)\n",
    "    spark.conf.set(\"spark.sql.overwrite.partitionOverwriteMode\", \"dynamic\")\n",
    "    if (spark.catalog.tableExists(f\"{database}.{table}\")):\n",
    "        df.write.mode(\"overwrite\").insertInto(f\"{database}.{table}\")\n",
    "    else:\n",
    "        df.write.mode(\"overwrite\").partitionBy(partition_col).format(\"parquet\").saveAsTable(f\"{database}.{table}\")"
   ]
  },
  {
   "cell_type": "code",
   "execution_count": 0,
   "metadata": {
    "application/vnd.databricks.v1+cell": {
     "cellMetadata": {
      "byteLimit": 2048000,
      "rowLimit": 10000
     },
     "inputWidgets": {},
     "nuid": "882a7e0b-d402-45a1-a957-d3be2815fc19",
     "showTitle": false,
     "tableResultSettingsMap": {},
     "title": ""
    }
   },
   "outputs": [],
   "source": [
    "def merge_data(df, path, database, table, partition_col, merge_condition):\n",
    "    spark.conf.set(\"spark.databricks.optimizer.dynamicPartitionPruning\", True) \n",
    "    from delta.tables import DeltaTable\n",
    "    if (spark.catalog.tableExists(f\"{database}.{table}\")):\n",
    "        deltatable = DeltaTable.forPath(spark, f\"{path}/{table}\")\n",
    "        deltatable.alias(\"tgt\").merge(df.alias(\"src\"), merge_condition).whenMatchedUpdateAll()\\\n",
    "                .whenNotMatchedInsertAll()\\\n",
    "                    .execute()\n",
    "    else:\n",
    "        df.write.mode(\"overwrite\").partitionBy(partition_col).format(\"delta\").saveAsTable(f\"{database}.{table}\")"
   ]
  },
  {
   "cell_type": "code",
   "execution_count": 0,
   "metadata": {
    "application/vnd.databricks.v1+cell": {
     "cellMetadata": {},
     "inputWidgets": {},
     "nuid": "c41aaa37-53a6-4d77-a1f4-89c0cd9ed606",
     "showTitle": false,
     "tableResultSettingsMap": {},
     "title": ""
    }
   },
   "outputs": [],
   "source": []
  }
 ],
 "metadata": {
  "application/vnd.databricks.v1+notebook": {
   "computePreferences": null,
   "dashboards": [],
   "environmentMetadata": {
    "base_environment": "",
    "environment_version": "1"
   },
   "language": "python",
   "notebookMetadata": {
    "pythonIndentUnit": 4
   },
   "notebookName": "common_functions",
   "widgets": {}
  },
  "language_info": {
   "name": "python"
  }
 },
 "nbformat": 4,
 "nbformat_minor": 0
}
